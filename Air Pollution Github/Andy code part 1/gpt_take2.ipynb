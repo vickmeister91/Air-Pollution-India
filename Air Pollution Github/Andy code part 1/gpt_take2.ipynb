{
 "cells": [
  {
   "cell_type": "code",
   "execution_count": 4,
   "metadata": {},
   "outputs": [],
   "source": [
    "# Import necessary libraries\n",
    "import pandas as pd\n",
    "import os\n",
    "import json\n",
    "\n",
    "# Initialize an empty DataFrame to store results\n",
    "kanoon_df = pd.DataFrame(columns=['Kanoon_ID', 'Content'])\n",
    "\n",
    "# List all JSON files in the directory\n",
    "file_names = [f for f in os.listdir('C:/Users/andre/OneDrive - AWJCorp/Work/Georgetown RA/Joshi-DeJure/0_data/interim/temp_gpt_take2.1') if f.endswith('.json')]\n",
    "\n",
    "# Loop through each file\n",
    "for file in file_names:\n",
    "    try:\n",
    "        # Extract Kanoon ID from the file name\n",
    "        kanoon_id = file.split('-')[0]\n",
    "        \n",
    "        # Read the JSON file\n",
    "        with open(f'C:/Users/andre/OneDrive - AWJCorp/Work/Georgetown RA/Joshi-DeJure/0_data/interim/temp_gpt_take2.1/{file}', 'r') as f:\n",
    "            json_data = json.load(f)\n",
    "        \n",
    "        # Extract the assistant's content\n",
    "        content = json_data['choices'][0]['message']['content']\n",
    "        \n",
    "        # Check if Kanoon ID already exists in the DataFrame\n",
    "        existing_row = kanoon_df[kanoon_df['Kanoon_ID'] == kanoon_id]\n",
    "        \n",
    "        if not existing_row.empty:\n",
    "            # Append the new content to the existing content for the same Kanoon ID\n",
    "            existing_idx = existing_row.index[0]\n",
    "            kanoon_df.at[existing_idx, 'Content'] += ' ' + content\n",
    "        else:\n",
    "            # Add a new row for the new Kanoon ID\n",
    "            new_row = pd.DataFrame({'Kanoon_ID': [kanoon_id], 'Content': [content]})\n",
    "            kanoon_df = pd.concat([kanoon_df, new_row], ignore_index=True)\n",
    "            \n",
    "    except Exception as e:\n",
    "        print(f\"Error in file: {file}, {str(e)}\")\n",
    "\n",
    "# Save the DataFrame to a CSV file\n",
    "output_csv_path = 'C:/Users/andre/OneDrive - AWJCorp/Work/Georgetown RA/Joshi-DeJure/0_data/final/combined_gpt_take2.1.csv'\n",
    "kanoon_df.to_csv(output_csv_path, index=False)\n"
   ]
  },
  {
   "cell_type": "markdown",
   "metadata": {},
   "source": [
    "## Prompt\n",
    "\n",
    "You are an Indian classifier. You will be given a text that definitely contains geographical location names in India. Your job is to parse the text into various location categories in India. Your outputs are: \n",
    "\"The State is: `state name 1`, (significance)\" \n",
    "\"The District is: `District name 1`, (significance)\"\n",
    "\"The City is:  `City name 1`, (significance)\"\n",
    "- When the text does not contain any location information or if the text is nonsense. You output the xxx is N/A. \n",
    "- You will do the same even if the location provided only contains 1 or a few levels. \n",
    "- If there are multiple locations at the same level, for example, multiple states, the output format you MUST follow is: The State is: `state name 1`; `state name2`, etc.\n",
    "-Use as few words as possible to describe a location's significance. "
   ]
  },
  {
   "cell_type": "code",
   "execution_count": 1,
   "metadata": {},
   "outputs": [
    {
     "name": "stderr",
     "output_type": "stream",
     "text": [
      "Processing locations:   6%|▌         | 31/520 [03:41<55:18,  6.79s/it]  "
     ]
    },
    {
     "name": "stdout",
     "output_type": "stream",
     "text": [
      "API call failed at iteration 168 with error: Request timed out: HTTPSConnectionPool(host='api.openai.com', port=443): Read timed out. (read timeout=600)\n"
     ]
    },
    {
     "name": "stderr",
     "output_type": "stream",
     "text": [
      "Processing locations:  18%|█▊        | 92/520 [21:27<56:20,  7.90s/it]    "
     ]
    },
    {
     "name": "stdout",
     "output_type": "stream",
     "text": [
      "API call failed at iteration 229 with error: This model's maximum context length is 8192 tokens. However, your messages resulted in 8548 tokens. Please reduce the length of the messages.\n"
     ]
    },
    {
     "name": "stderr",
     "output_type": "stream",
     "text": [
      "Processing locations:  22%|██▏       | 113/520 [24:19<56:13,  8.29s/it]  "
     ]
    },
    {
     "name": "stdout",
     "output_type": "stream",
     "text": [
      "API call failed at iteration 250 with error: This model's maximum context length is 8192 tokens. However, you requested 8807 tokens (6807 in the messages, 2000 in the completion). Please reduce the length of the messages or completion.\n"
     ]
    },
    {
     "name": "stderr",
     "output_type": "stream",
     "text": [
      "Processing locations:  27%|██▋       | 140/520 [27:29<40:03,  6.33s/it]  "
     ]
    },
    {
     "name": "stdout",
     "output_type": "stream",
     "text": [
      "API call failed at iteration 277 with error: This model's maximum context length is 8192 tokens. However, you requested 9475 tokens (7475 in the messages, 2000 in the completion). Please reduce the length of the messages or completion.\n"
     ]
    },
    {
     "name": "stderr",
     "output_type": "stream",
     "text": [
      "Processing locations:  33%|███▎      | 170/520 [31:09<40:14,  6.90s/it]"
     ]
    },
    {
     "name": "stdout",
     "output_type": "stream",
     "text": [
      "API call failed at iteration 307 with error: This model's maximum context length is 8192 tokens. However, you requested 8204 tokens (6204 in the messages, 2000 in the completion). Please reduce the length of the messages or completion.\n"
     ]
    },
    {
     "name": "stderr",
     "output_type": "stream",
     "text": [
      "Processing locations:  36%|███▌      | 185/520 [32:42<33:24,  5.98s/it]"
     ]
    },
    {
     "name": "stdout",
     "output_type": "stream",
     "text": [
      "API call failed at iteration 322 with error: This model's maximum context length is 8192 tokens. However, you requested 8801 tokens (6801 in the messages, 2000 in the completion). Please reduce the length of the messages or completion.\n"
     ]
    },
    {
     "name": "stderr",
     "output_type": "stream",
     "text": [
      "Processing locations:  51%|█████     | 265/520 [43:31<32:17,  7.60s/it]  "
     ]
    },
    {
     "name": "stdout",
     "output_type": "stream",
     "text": [
      "API call failed at iteration 402 with error: Request timed out: HTTPSConnectionPool(host='api.openai.com', port=443): Read timed out. (read timeout=600)\n"
     ]
    },
    {
     "name": "stderr",
     "output_type": "stream",
     "text": [
      "Processing locations:  57%|█████▋    | 297/520 [57:26<33:41,  9.07s/it]    "
     ]
    },
    {
     "name": "stdout",
     "output_type": "stream",
     "text": [
      "API call failed at iteration 434 with error: This model's maximum context length is 8192 tokens. However, you requested 8204 tokens (6204 in the messages, 2000 in the completion). Please reduce the length of the messages or completion.\n"
     ]
    },
    {
     "name": "stderr",
     "output_type": "stream",
     "text": [
      "Processing locations:  61%|██████    | 318/520 [59:59<27:42,  8.23s/it]"
     ]
    },
    {
     "name": "stdout",
     "output_type": "stream",
     "text": [
      "API call failed at iteration 455 with error: Request timed out: HTTPSConnectionPool(host='api.openai.com', port=443): Read timed out. (read timeout=600)\n"
     ]
    },
    {
     "name": "stderr",
     "output_type": "stream",
     "text": [
      "Processing locations:  82%|████████▏ | 426/520 [1:23:39<10:45,  6.87s/it]    "
     ]
    },
    {
     "name": "stdout",
     "output_type": "stream",
     "text": [
      "API call failed at iteration 563 with error: This model's maximum context length is 8192 tokens. However, you requested 9331 tokens (7331 in the messages, 2000 in the completion). Please reduce the length of the messages or completion.\n"
     ]
    },
    {
     "name": "stderr",
     "output_type": "stream",
     "text": [
      "Processing locations:  87%|████████▋ | 450/520 [1:27:24<07:32,  6.46s/it]"
     ]
    },
    {
     "name": "stdout",
     "output_type": "stream",
     "text": [
      "API call failed at iteration 587 with error: This model's maximum context length is 8192 tokens. However, you requested 9514 tokens (7514 in the messages, 2000 in the completion). Please reduce the length of the messages or completion.\n"
     ]
    },
    {
     "name": "stderr",
     "output_type": "stream",
     "text": [
      "Processing locations: 534it [1:38:25,  8.58s/it]                         "
     ]
    },
    {
     "name": "stdout",
     "output_type": "stream",
     "text": [
      "API call failed at iteration 671 with error: This model's maximum context length is 8192 tokens. However, you requested 8895 tokens (6895 in the messages, 2000 in the completion). Please reduce the length of the messages or completion.\n"
     ]
    },
    {
     "name": "stderr",
     "output_type": "stream",
     "text": [
      "Processing locations: 537it [1:38:54, 11.05s/it]\n"
     ]
    },
    {
     "ename": "KeyboardInterrupt",
     "evalue": "",
     "output_type": "error",
     "traceback": [
      "\u001b[1;31m---------------------------------------------------------------------------\u001b[0m",
      "\u001b[1;31mKeyboardInterrupt\u001b[0m                         Traceback (most recent call last)",
      "\u001b[1;32mc:\\Users\\andre\\OneDrive - AWJCorp\\Work\\Georgetown RA\\Joshi-DeJure\\1_dofiles\\gpt_take2.ipynb Cell 3\u001b[0m line \u001b[0;36m5\n\u001b[0;32m     <a href='vscode-notebook-cell:/c%3A/Users/andre/OneDrive%20-%20AWJCorp/Work/Georgetown%20RA/Joshi-DeJure/1_dofiles/gpt_take2.ipynb#W2sZmlsZQ%3D%3D?line=54'>55</a>\u001b[0m     \u001b[39mcontinue\u001b[39;00m\n\u001b[0;32m     <a href='vscode-notebook-cell:/c%3A/Users/andre/OneDrive%20-%20AWJCorp/Work/Georgetown%20RA/Joshi-DeJure/1_dofiles/gpt_take2.ipynb#W2sZmlsZQ%3D%3D?line=55'>56</a>\u001b[0m location \u001b[39m=\u001b[39m row[\u001b[39m1\u001b[39m][\u001b[39m'\u001b[39m\u001b[39mContent\u001b[39m\u001b[39m'\u001b[39m]  \u001b[39m# Make sure the column name is correct\u001b[39;00m\n\u001b[1;32m---> <a href='vscode-notebook-cell:/c%3A/Users/andre/OneDrive%20-%20AWJCorp/Work/Georgetown%20RA/Joshi-DeJure/1_dofiles/gpt_take2.ipynb#W2sZmlsZQ%3D%3D?line=56'>57</a>\u001b[0m api_call(location, index)\n\u001b[0;32m     <a href='vscode-notebook-cell:/c%3A/Users/andre/OneDrive%20-%20AWJCorp/Work/Georgetown%20RA/Joshi-DeJure/1_dofiles/gpt_take2.ipynb#W2sZmlsZQ%3D%3D?line=57'>58</a>\u001b[0m time\u001b[39m.\u001b[39msleep(\u001b[39m1\u001b[39m)\n",
      "\u001b[1;32mc:\\Users\\andre\\OneDrive - AWJCorp\\Work\\Georgetown RA\\Joshi-DeJure\\1_dofiles\\gpt_take2.ipynb Cell 3\u001b[0m line \u001b[0;36m1\n\u001b[0;32m     <a href='vscode-notebook-cell:/c%3A/Users/andre/OneDrive%20-%20AWJCorp/Work/Georgetown%20RA/Joshi-DeJure/1_dofiles/gpt_take2.ipynb#W2sZmlsZQ%3D%3D?line=15'>16</a>\u001b[0m \u001b[39mdef\u001b[39;00m \u001b[39mapi_call\u001b[39m(location, iteration):\n\u001b[0;32m     <a href='vscode-notebook-cell:/c%3A/Users/andre/OneDrive%20-%20AWJCorp/Work/Georgetown%20RA/Joshi-DeJure/1_dofiles/gpt_take2.ipynb#W2sZmlsZQ%3D%3D?line=16'>17</a>\u001b[0m     \u001b[39mtry\u001b[39;00m:\n\u001b[1;32m---> <a href='vscode-notebook-cell:/c%3A/Users/andre/OneDrive%20-%20AWJCorp/Work/Georgetown%20RA/Joshi-DeJure/1_dofiles/gpt_take2.ipynb#W2sZmlsZQ%3D%3D?line=17'>18</a>\u001b[0m         response \u001b[39m=\u001b[39m openai\u001b[39m.\u001b[39;49mChatCompletion\u001b[39m.\u001b[39;49mcreate(\n\u001b[0;32m     <a href='vscode-notebook-cell:/c%3A/Users/andre/OneDrive%20-%20AWJCorp/Work/Georgetown%20RA/Joshi-DeJure/1_dofiles/gpt_take2.ipynb#W2sZmlsZQ%3D%3D?line=18'>19</a>\u001b[0m             model\u001b[39m=\u001b[39;49m\u001b[39m\"\u001b[39;49m\u001b[39mgpt-4\u001b[39;49m\u001b[39m\"\u001b[39;49m,\n\u001b[0;32m     <a href='vscode-notebook-cell:/c%3A/Users/andre/OneDrive%20-%20AWJCorp/Work/Georgetown%20RA/Joshi-DeJure/1_dofiles/gpt_take2.ipynb#W2sZmlsZQ%3D%3D?line=19'>20</a>\u001b[0m             messages\u001b[39m=\u001b[39;49m[\n\u001b[0;32m     <a href='vscode-notebook-cell:/c%3A/Users/andre/OneDrive%20-%20AWJCorp/Work/Georgetown%20RA/Joshi-DeJure/1_dofiles/gpt_take2.ipynb#W2sZmlsZQ%3D%3D?line=20'>21</a>\u001b[0m                 {\n\u001b[0;32m     <a href='vscode-notebook-cell:/c%3A/Users/andre/OneDrive%20-%20AWJCorp/Work/Georgetown%20RA/Joshi-DeJure/1_dofiles/gpt_take2.ipynb#W2sZmlsZQ%3D%3D?line=21'>22</a>\u001b[0m                     \u001b[39m\"\u001b[39;49m\u001b[39mrole\u001b[39;49m\u001b[39m\"\u001b[39;49m: \u001b[39m\"\u001b[39;49m\u001b[39msystem\u001b[39;49m\u001b[39m\"\u001b[39;49m,\n\u001b[0;32m     <a href='vscode-notebook-cell:/c%3A/Users/andre/OneDrive%20-%20AWJCorp/Work/Georgetown%20RA/Joshi-DeJure/1_dofiles/gpt_take2.ipynb#W2sZmlsZQ%3D%3D?line=22'>23</a>\u001b[0m                     \u001b[39m\"\u001b[39;49m\u001b[39mcontent\u001b[39;49m\u001b[39m\"\u001b[39;49m: prompt\n\u001b[0;32m     <a href='vscode-notebook-cell:/c%3A/Users/andre/OneDrive%20-%20AWJCorp/Work/Georgetown%20RA/Joshi-DeJure/1_dofiles/gpt_take2.ipynb#W2sZmlsZQ%3D%3D?line=23'>24</a>\u001b[0m                 },\n\u001b[0;32m     <a href='vscode-notebook-cell:/c%3A/Users/andre/OneDrive%20-%20AWJCorp/Work/Georgetown%20RA/Joshi-DeJure/1_dofiles/gpt_take2.ipynb#W2sZmlsZQ%3D%3D?line=24'>25</a>\u001b[0m                 {\n\u001b[0;32m     <a href='vscode-notebook-cell:/c%3A/Users/andre/OneDrive%20-%20AWJCorp/Work/Georgetown%20RA/Joshi-DeJure/1_dofiles/gpt_take2.ipynb#W2sZmlsZQ%3D%3D?line=25'>26</a>\u001b[0m                     \u001b[39m\"\u001b[39;49m\u001b[39mrole\u001b[39;49m\u001b[39m\"\u001b[39;49m: \u001b[39m\"\u001b[39;49m\u001b[39muser\u001b[39;49m\u001b[39m\"\u001b[39;49m,\n\u001b[0;32m     <a href='vscode-notebook-cell:/c%3A/Users/andre/OneDrive%20-%20AWJCorp/Work/Georgetown%20RA/Joshi-DeJure/1_dofiles/gpt_take2.ipynb#W2sZmlsZQ%3D%3D?line=26'>27</a>\u001b[0m                     \u001b[39m\"\u001b[39;49m\u001b[39mcontent\u001b[39;49m\u001b[39m\"\u001b[39;49m: location\n\u001b[0;32m     <a href='vscode-notebook-cell:/c%3A/Users/andre/OneDrive%20-%20AWJCorp/Work/Georgetown%20RA/Joshi-DeJure/1_dofiles/gpt_take2.ipynb#W2sZmlsZQ%3D%3D?line=27'>28</a>\u001b[0m                 }\n\u001b[0;32m     <a href='vscode-notebook-cell:/c%3A/Users/andre/OneDrive%20-%20AWJCorp/Work/Georgetown%20RA/Joshi-DeJure/1_dofiles/gpt_take2.ipynb#W2sZmlsZQ%3D%3D?line=28'>29</a>\u001b[0m             ],\n\u001b[0;32m     <a href='vscode-notebook-cell:/c%3A/Users/andre/OneDrive%20-%20AWJCorp/Work/Georgetown%20RA/Joshi-DeJure/1_dofiles/gpt_take2.ipynb#W2sZmlsZQ%3D%3D?line=29'>30</a>\u001b[0m             temperature\u001b[39m=\u001b[39;49m\u001b[39m0\u001b[39;49m,\n\u001b[0;32m     <a href='vscode-notebook-cell:/c%3A/Users/andre/OneDrive%20-%20AWJCorp/Work/Georgetown%20RA/Joshi-DeJure/1_dofiles/gpt_take2.ipynb#W2sZmlsZQ%3D%3D?line=30'>31</a>\u001b[0m             max_tokens\u001b[39m=\u001b[39;49m\u001b[39m2000\u001b[39;49m,\n\u001b[0;32m     <a href='vscode-notebook-cell:/c%3A/Users/andre/OneDrive%20-%20AWJCorp/Work/Georgetown%20RA/Joshi-DeJure/1_dofiles/gpt_take2.ipynb#W2sZmlsZQ%3D%3D?line=31'>32</a>\u001b[0m             top_p\u001b[39m=\u001b[39;49m\u001b[39m1\u001b[39;49m,\n\u001b[0;32m     <a href='vscode-notebook-cell:/c%3A/Users/andre/OneDrive%20-%20AWJCorp/Work/Georgetown%20RA/Joshi-DeJure/1_dofiles/gpt_take2.ipynb#W2sZmlsZQ%3D%3D?line=32'>33</a>\u001b[0m             frequency_penalty\u001b[39m=\u001b[39;49m\u001b[39m0\u001b[39;49m,\n\u001b[0;32m     <a href='vscode-notebook-cell:/c%3A/Users/andre/OneDrive%20-%20AWJCorp/Work/Georgetown%20RA/Joshi-DeJure/1_dofiles/gpt_take2.ipynb#W2sZmlsZQ%3D%3D?line=33'>34</a>\u001b[0m             presence_penalty\u001b[39m=\u001b[39;49m\u001b[39m0\u001b[39;49m\n\u001b[0;32m     <a href='vscode-notebook-cell:/c%3A/Users/andre/OneDrive%20-%20AWJCorp/Work/Georgetown%20RA/Joshi-DeJure/1_dofiles/gpt_take2.ipynb#W2sZmlsZQ%3D%3D?line=34'>35</a>\u001b[0m         )\n\u001b[0;32m     <a href='vscode-notebook-cell:/c%3A/Users/andre/OneDrive%20-%20AWJCorp/Work/Georgetown%20RA/Joshi-DeJure/1_dofiles/gpt_take2.ipynb#W2sZmlsZQ%3D%3D?line=36'>37</a>\u001b[0m         \u001b[39m# Save the response as a JSON file\u001b[39;00m\n\u001b[0;32m     <a href='vscode-notebook-cell:/c%3A/Users/andre/OneDrive%20-%20AWJCorp/Work/Georgetown%20RA/Joshi-DeJure/1_dofiles/gpt_take2.ipynb#W2sZmlsZQ%3D%3D?line=37'>38</a>\u001b[0m         json_file_path \u001b[39m=\u001b[39m os\u001b[39m.\u001b[39mpath\u001b[39m.\u001b[39mjoin(temp_folder_path, \u001b[39mf\u001b[39m\u001b[39m\"\u001b[39m\u001b[39m{\u001b[39;00miteration\u001b[39m}\u001b[39;00m\u001b[39m.json\u001b[39m\u001b[39m\"\u001b[39m)\n",
      "File \u001b[1;32m~\\AppData\\Roaming\\Python\\Python311\\site-packages\\openai\\api_resources\\chat_completion.py:25\u001b[0m, in \u001b[0;36mChatCompletion.create\u001b[1;34m(cls, *args, **kwargs)\u001b[0m\n\u001b[0;32m     23\u001b[0m \u001b[39mwhile\u001b[39;00m \u001b[39mTrue\u001b[39;00m:\n\u001b[0;32m     24\u001b[0m     \u001b[39mtry\u001b[39;00m:\n\u001b[1;32m---> 25\u001b[0m         \u001b[39mreturn\u001b[39;00m \u001b[39msuper\u001b[39;49m()\u001b[39m.\u001b[39;49mcreate(\u001b[39m*\u001b[39;49margs, \u001b[39m*\u001b[39;49m\u001b[39m*\u001b[39;49mkwargs)\n\u001b[0;32m     26\u001b[0m     \u001b[39mexcept\u001b[39;00m TryAgain \u001b[39mas\u001b[39;00m e:\n\u001b[0;32m     27\u001b[0m         \u001b[39mif\u001b[39;00m timeout \u001b[39mis\u001b[39;00m \u001b[39mnot\u001b[39;00m \u001b[39mNone\u001b[39;00m \u001b[39mand\u001b[39;00m time\u001b[39m.\u001b[39mtime() \u001b[39m>\u001b[39m start \u001b[39m+\u001b[39m timeout:\n",
      "File \u001b[1;32m~\\AppData\\Roaming\\Python\\Python311\\site-packages\\openai\\api_resources\\abstract\\engine_api_resource.py:153\u001b[0m, in \u001b[0;36mEngineAPIResource.create\u001b[1;34m(cls, api_key, api_base, api_type, request_id, api_version, organization, **params)\u001b[0m\n\u001b[0;32m    127\u001b[0m \u001b[39m@classmethod\u001b[39m\n\u001b[0;32m    128\u001b[0m \u001b[39mdef\u001b[39;00m \u001b[39mcreate\u001b[39m(\n\u001b[0;32m    129\u001b[0m     \u001b[39mcls\u001b[39m,\n\u001b[1;32m   (...)\u001b[0m\n\u001b[0;32m    136\u001b[0m     \u001b[39m*\u001b[39m\u001b[39m*\u001b[39mparams,\n\u001b[0;32m    137\u001b[0m ):\n\u001b[0;32m    138\u001b[0m     (\n\u001b[0;32m    139\u001b[0m         deployment_id,\n\u001b[0;32m    140\u001b[0m         engine,\n\u001b[1;32m   (...)\u001b[0m\n\u001b[0;32m    150\u001b[0m         api_key, api_base, api_type, api_version, organization, \u001b[39m*\u001b[39m\u001b[39m*\u001b[39mparams\n\u001b[0;32m    151\u001b[0m     )\n\u001b[1;32m--> 153\u001b[0m     response, _, api_key \u001b[39m=\u001b[39m requestor\u001b[39m.\u001b[39;49mrequest(\n\u001b[0;32m    154\u001b[0m         \u001b[39m\"\u001b[39;49m\u001b[39mpost\u001b[39;49m\u001b[39m\"\u001b[39;49m,\n\u001b[0;32m    155\u001b[0m         url,\n\u001b[0;32m    156\u001b[0m         params\u001b[39m=\u001b[39;49mparams,\n\u001b[0;32m    157\u001b[0m         headers\u001b[39m=\u001b[39;49mheaders,\n\u001b[0;32m    158\u001b[0m         stream\u001b[39m=\u001b[39;49mstream,\n\u001b[0;32m    159\u001b[0m         request_id\u001b[39m=\u001b[39;49mrequest_id,\n\u001b[0;32m    160\u001b[0m         request_timeout\u001b[39m=\u001b[39;49mrequest_timeout,\n\u001b[0;32m    161\u001b[0m     )\n\u001b[0;32m    163\u001b[0m     \u001b[39mif\u001b[39;00m stream:\n\u001b[0;32m    164\u001b[0m         \u001b[39m# must be an iterator\u001b[39;00m\n\u001b[0;32m    165\u001b[0m         \u001b[39massert\u001b[39;00m \u001b[39mnot\u001b[39;00m \u001b[39misinstance\u001b[39m(response, OpenAIResponse)\n",
      "File \u001b[1;32m~\\AppData\\Roaming\\Python\\Python311\\site-packages\\openai\\api_requestor.py:288\u001b[0m, in \u001b[0;36mAPIRequestor.request\u001b[1;34m(self, method, url, params, headers, files, stream, request_id, request_timeout)\u001b[0m\n\u001b[0;32m    277\u001b[0m \u001b[39mdef\u001b[39;00m \u001b[39mrequest\u001b[39m(\n\u001b[0;32m    278\u001b[0m     \u001b[39mself\u001b[39m,\n\u001b[0;32m    279\u001b[0m     method,\n\u001b[1;32m   (...)\u001b[0m\n\u001b[0;32m    286\u001b[0m     request_timeout: Optional[Union[\u001b[39mfloat\u001b[39m, Tuple[\u001b[39mfloat\u001b[39m, \u001b[39mfloat\u001b[39m]]] \u001b[39m=\u001b[39m \u001b[39mNone\u001b[39;00m,\n\u001b[0;32m    287\u001b[0m ) \u001b[39m-\u001b[39m\u001b[39m>\u001b[39m Tuple[Union[OpenAIResponse, Iterator[OpenAIResponse]], \u001b[39mbool\u001b[39m, \u001b[39mstr\u001b[39m]:\n\u001b[1;32m--> 288\u001b[0m     result \u001b[39m=\u001b[39m \u001b[39mself\u001b[39;49m\u001b[39m.\u001b[39;49mrequest_raw(\n\u001b[0;32m    289\u001b[0m         method\u001b[39m.\u001b[39;49mlower(),\n\u001b[0;32m    290\u001b[0m         url,\n\u001b[0;32m    291\u001b[0m         params\u001b[39m=\u001b[39;49mparams,\n\u001b[0;32m    292\u001b[0m         supplied_headers\u001b[39m=\u001b[39;49mheaders,\n\u001b[0;32m    293\u001b[0m         files\u001b[39m=\u001b[39;49mfiles,\n\u001b[0;32m    294\u001b[0m         stream\u001b[39m=\u001b[39;49mstream,\n\u001b[0;32m    295\u001b[0m         request_id\u001b[39m=\u001b[39;49mrequest_id,\n\u001b[0;32m    296\u001b[0m         request_timeout\u001b[39m=\u001b[39;49mrequest_timeout,\n\u001b[0;32m    297\u001b[0m     )\n\u001b[0;32m    298\u001b[0m     resp, got_stream \u001b[39m=\u001b[39m \u001b[39mself\u001b[39m\u001b[39m.\u001b[39m_interpret_response(result, stream)\n\u001b[0;32m    299\u001b[0m     \u001b[39mreturn\u001b[39;00m resp, got_stream, \u001b[39mself\u001b[39m\u001b[39m.\u001b[39mapi_key\n",
      "File \u001b[1;32m~\\AppData\\Roaming\\Python\\Python311\\site-packages\\openai\\api_requestor.py:596\u001b[0m, in \u001b[0;36mAPIRequestor.request_raw\u001b[1;34m(self, method, url, params, supplied_headers, files, stream, request_id, request_timeout)\u001b[0m\n\u001b[0;32m    594\u001b[0m     _thread_context\u001b[39m.\u001b[39msession_create_time \u001b[39m=\u001b[39m time\u001b[39m.\u001b[39mtime()\n\u001b[0;32m    595\u001b[0m \u001b[39mtry\u001b[39;00m:\n\u001b[1;32m--> 596\u001b[0m     result \u001b[39m=\u001b[39m _thread_context\u001b[39m.\u001b[39;49msession\u001b[39m.\u001b[39;49mrequest(\n\u001b[0;32m    597\u001b[0m         method,\n\u001b[0;32m    598\u001b[0m         abs_url,\n\u001b[0;32m    599\u001b[0m         headers\u001b[39m=\u001b[39;49mheaders,\n\u001b[0;32m    600\u001b[0m         data\u001b[39m=\u001b[39;49mdata,\n\u001b[0;32m    601\u001b[0m         files\u001b[39m=\u001b[39;49mfiles,\n\u001b[0;32m    602\u001b[0m         stream\u001b[39m=\u001b[39;49mstream,\n\u001b[0;32m    603\u001b[0m         timeout\u001b[39m=\u001b[39;49mrequest_timeout \u001b[39mif\u001b[39;49;00m request_timeout \u001b[39melse\u001b[39;49;00m TIMEOUT_SECS,\n\u001b[0;32m    604\u001b[0m         proxies\u001b[39m=\u001b[39;49m_thread_context\u001b[39m.\u001b[39;49msession\u001b[39m.\u001b[39;49mproxies,\n\u001b[0;32m    605\u001b[0m     )\n\u001b[0;32m    606\u001b[0m \u001b[39mexcept\u001b[39;00m requests\u001b[39m.\u001b[39mexceptions\u001b[39m.\u001b[39mTimeout \u001b[39mas\u001b[39;00m e:\n\u001b[0;32m    607\u001b[0m     \u001b[39mraise\u001b[39;00m error\u001b[39m.\u001b[39mTimeout(\u001b[39m\"\u001b[39m\u001b[39mRequest timed out: \u001b[39m\u001b[39m{}\u001b[39;00m\u001b[39m\"\u001b[39m\u001b[39m.\u001b[39mformat(e)) \u001b[39mfrom\u001b[39;00m \u001b[39me\u001b[39;00m\n",
      "File \u001b[1;32m~\\AppData\\Roaming\\Python\\Python311\\site-packages\\requests\\sessions.py:589\u001b[0m, in \u001b[0;36mSession.request\u001b[1;34m(self, method, url, params, data, headers, cookies, files, auth, timeout, allow_redirects, proxies, hooks, stream, verify, cert, json)\u001b[0m\n\u001b[0;32m    584\u001b[0m send_kwargs \u001b[39m=\u001b[39m {\n\u001b[0;32m    585\u001b[0m     \u001b[39m\"\u001b[39m\u001b[39mtimeout\u001b[39m\u001b[39m\"\u001b[39m: timeout,\n\u001b[0;32m    586\u001b[0m     \u001b[39m\"\u001b[39m\u001b[39mallow_redirects\u001b[39m\u001b[39m\"\u001b[39m: allow_redirects,\n\u001b[0;32m    587\u001b[0m }\n\u001b[0;32m    588\u001b[0m send_kwargs\u001b[39m.\u001b[39mupdate(settings)\n\u001b[1;32m--> 589\u001b[0m resp \u001b[39m=\u001b[39m \u001b[39mself\u001b[39;49m\u001b[39m.\u001b[39;49msend(prep, \u001b[39m*\u001b[39;49m\u001b[39m*\u001b[39;49msend_kwargs)\n\u001b[0;32m    591\u001b[0m \u001b[39mreturn\u001b[39;00m resp\n",
      "File \u001b[1;32m~\\AppData\\Roaming\\Python\\Python311\\site-packages\\requests\\sessions.py:703\u001b[0m, in \u001b[0;36mSession.send\u001b[1;34m(self, request, **kwargs)\u001b[0m\n\u001b[0;32m    700\u001b[0m start \u001b[39m=\u001b[39m preferred_clock()\n\u001b[0;32m    702\u001b[0m \u001b[39m# Send the request\u001b[39;00m\n\u001b[1;32m--> 703\u001b[0m r \u001b[39m=\u001b[39m adapter\u001b[39m.\u001b[39;49msend(request, \u001b[39m*\u001b[39;49m\u001b[39m*\u001b[39;49mkwargs)\n\u001b[0;32m    705\u001b[0m \u001b[39m# Total elapsed time of the request (approximately)\u001b[39;00m\n\u001b[0;32m    706\u001b[0m elapsed \u001b[39m=\u001b[39m preferred_clock() \u001b[39m-\u001b[39m start\n",
      "File \u001b[1;32m~\\AppData\\Roaming\\Python\\Python311\\site-packages\\requests\\adapters.py:486\u001b[0m, in \u001b[0;36mHTTPAdapter.send\u001b[1;34m(self, request, stream, timeout, verify, cert, proxies)\u001b[0m\n\u001b[0;32m    483\u001b[0m     timeout \u001b[39m=\u001b[39m TimeoutSauce(connect\u001b[39m=\u001b[39mtimeout, read\u001b[39m=\u001b[39mtimeout)\n\u001b[0;32m    485\u001b[0m \u001b[39mtry\u001b[39;00m:\n\u001b[1;32m--> 486\u001b[0m     resp \u001b[39m=\u001b[39m conn\u001b[39m.\u001b[39;49murlopen(\n\u001b[0;32m    487\u001b[0m         method\u001b[39m=\u001b[39;49mrequest\u001b[39m.\u001b[39;49mmethod,\n\u001b[0;32m    488\u001b[0m         url\u001b[39m=\u001b[39;49murl,\n\u001b[0;32m    489\u001b[0m         body\u001b[39m=\u001b[39;49mrequest\u001b[39m.\u001b[39;49mbody,\n\u001b[0;32m    490\u001b[0m         headers\u001b[39m=\u001b[39;49mrequest\u001b[39m.\u001b[39;49mheaders,\n\u001b[0;32m    491\u001b[0m         redirect\u001b[39m=\u001b[39;49m\u001b[39mFalse\u001b[39;49;00m,\n\u001b[0;32m    492\u001b[0m         assert_same_host\u001b[39m=\u001b[39;49m\u001b[39mFalse\u001b[39;49;00m,\n\u001b[0;32m    493\u001b[0m         preload_content\u001b[39m=\u001b[39;49m\u001b[39mFalse\u001b[39;49;00m,\n\u001b[0;32m    494\u001b[0m         decode_content\u001b[39m=\u001b[39;49m\u001b[39mFalse\u001b[39;49;00m,\n\u001b[0;32m    495\u001b[0m         retries\u001b[39m=\u001b[39;49m\u001b[39mself\u001b[39;49m\u001b[39m.\u001b[39;49mmax_retries,\n\u001b[0;32m    496\u001b[0m         timeout\u001b[39m=\u001b[39;49mtimeout,\n\u001b[0;32m    497\u001b[0m         chunked\u001b[39m=\u001b[39;49mchunked,\n\u001b[0;32m    498\u001b[0m     )\n\u001b[0;32m    500\u001b[0m \u001b[39mexcept\u001b[39;00m (ProtocolError, \u001b[39mOSError\u001b[39;00m) \u001b[39mas\u001b[39;00m err:\n\u001b[0;32m    501\u001b[0m     \u001b[39mraise\u001b[39;00m \u001b[39mConnectionError\u001b[39;00m(err, request\u001b[39m=\u001b[39mrequest)\n",
      "File \u001b[1;32mc:\\Python311\\Lib\\site-packages\\urllib3\\connectionpool.py:703\u001b[0m, in \u001b[0;36mHTTPConnectionPool.urlopen\u001b[1;34m(self, method, url, body, headers, retries, redirect, assert_same_host, timeout, pool_timeout, release_conn, chunked, body_pos, **response_kw)\u001b[0m\n\u001b[0;32m    700\u001b[0m     \u001b[39mself\u001b[39m\u001b[39m.\u001b[39m_prepare_proxy(conn)\n\u001b[0;32m    702\u001b[0m \u001b[39m# Make the request on the httplib connection object.\u001b[39;00m\n\u001b[1;32m--> 703\u001b[0m httplib_response \u001b[39m=\u001b[39m \u001b[39mself\u001b[39;49m\u001b[39m.\u001b[39;49m_make_request(\n\u001b[0;32m    704\u001b[0m     conn,\n\u001b[0;32m    705\u001b[0m     method,\n\u001b[0;32m    706\u001b[0m     url,\n\u001b[0;32m    707\u001b[0m     timeout\u001b[39m=\u001b[39;49mtimeout_obj,\n\u001b[0;32m    708\u001b[0m     body\u001b[39m=\u001b[39;49mbody,\n\u001b[0;32m    709\u001b[0m     headers\u001b[39m=\u001b[39;49mheaders,\n\u001b[0;32m    710\u001b[0m     chunked\u001b[39m=\u001b[39;49mchunked,\n\u001b[0;32m    711\u001b[0m )\n\u001b[0;32m    713\u001b[0m \u001b[39m# If we're going to release the connection in ``finally:``, then\u001b[39;00m\n\u001b[0;32m    714\u001b[0m \u001b[39m# the response doesn't need to know about the connection. Otherwise\u001b[39;00m\n\u001b[0;32m    715\u001b[0m \u001b[39m# it will also try to release it and we'll have a double-release\u001b[39;00m\n\u001b[0;32m    716\u001b[0m \u001b[39m# mess.\u001b[39;00m\n\u001b[0;32m    717\u001b[0m response_conn \u001b[39m=\u001b[39m conn \u001b[39mif\u001b[39;00m \u001b[39mnot\u001b[39;00m release_conn \u001b[39melse\u001b[39;00m \u001b[39mNone\u001b[39;00m\n",
      "File \u001b[1;32mc:\\Python311\\Lib\\site-packages\\urllib3\\connectionpool.py:449\u001b[0m, in \u001b[0;36mHTTPConnectionPool._make_request\u001b[1;34m(self, conn, method, url, timeout, chunked, **httplib_request_kw)\u001b[0m\n\u001b[0;32m    444\u001b[0m             httplib_response \u001b[39m=\u001b[39m conn\u001b[39m.\u001b[39mgetresponse()\n\u001b[0;32m    445\u001b[0m         \u001b[39mexcept\u001b[39;00m \u001b[39mBaseException\u001b[39;00m \u001b[39mas\u001b[39;00m e:\n\u001b[0;32m    446\u001b[0m             \u001b[39m# Remove the TypeError from the exception chain in\u001b[39;00m\n\u001b[0;32m    447\u001b[0m             \u001b[39m# Python 3 (including for exceptions like SystemExit).\u001b[39;00m\n\u001b[0;32m    448\u001b[0m             \u001b[39m# Otherwise it looks like a bug in the code.\u001b[39;00m\n\u001b[1;32m--> 449\u001b[0m             six\u001b[39m.\u001b[39;49mraise_from(e, \u001b[39mNone\u001b[39;49;00m)\n\u001b[0;32m    450\u001b[0m \u001b[39mexcept\u001b[39;00m (SocketTimeout, BaseSSLError, SocketError) \u001b[39mas\u001b[39;00m e:\n\u001b[0;32m    451\u001b[0m     \u001b[39mself\u001b[39m\u001b[39m.\u001b[39m_raise_timeout(err\u001b[39m=\u001b[39me, url\u001b[39m=\u001b[39murl, timeout_value\u001b[39m=\u001b[39mread_timeout)\n",
      "File \u001b[1;32m<string>:3\u001b[0m, in \u001b[0;36mraise_from\u001b[1;34m(value, from_value)\u001b[0m\n",
      "File \u001b[1;32mc:\\Python311\\Lib\\site-packages\\urllib3\\connectionpool.py:444\u001b[0m, in \u001b[0;36mHTTPConnectionPool._make_request\u001b[1;34m(self, conn, method, url, timeout, chunked, **httplib_request_kw)\u001b[0m\n\u001b[0;32m    441\u001b[0m \u001b[39mexcept\u001b[39;00m \u001b[39mTypeError\u001b[39;00m:\n\u001b[0;32m    442\u001b[0m     \u001b[39m# Python 3\u001b[39;00m\n\u001b[0;32m    443\u001b[0m     \u001b[39mtry\u001b[39;00m:\n\u001b[1;32m--> 444\u001b[0m         httplib_response \u001b[39m=\u001b[39m conn\u001b[39m.\u001b[39;49mgetresponse()\n\u001b[0;32m    445\u001b[0m     \u001b[39mexcept\u001b[39;00m \u001b[39mBaseException\u001b[39;00m \u001b[39mas\u001b[39;00m e:\n\u001b[0;32m    446\u001b[0m         \u001b[39m# Remove the TypeError from the exception chain in\u001b[39;00m\n\u001b[0;32m    447\u001b[0m         \u001b[39m# Python 3 (including for exceptions like SystemExit).\u001b[39;00m\n\u001b[0;32m    448\u001b[0m         \u001b[39m# Otherwise it looks like a bug in the code.\u001b[39;00m\n\u001b[0;32m    449\u001b[0m         six\u001b[39m.\u001b[39mraise_from(e, \u001b[39mNone\u001b[39;00m)\n",
      "File \u001b[1;32mc:\\Python311\\Lib\\http\\client.py:1374\u001b[0m, in \u001b[0;36mHTTPConnection.getresponse\u001b[1;34m(self)\u001b[0m\n\u001b[0;32m   1372\u001b[0m \u001b[39mtry\u001b[39;00m:\n\u001b[0;32m   1373\u001b[0m     \u001b[39mtry\u001b[39;00m:\n\u001b[1;32m-> 1374\u001b[0m         response\u001b[39m.\u001b[39;49mbegin()\n\u001b[0;32m   1375\u001b[0m     \u001b[39mexcept\u001b[39;00m \u001b[39mConnectionError\u001b[39;00m:\n\u001b[0;32m   1376\u001b[0m         \u001b[39mself\u001b[39m\u001b[39m.\u001b[39mclose()\n",
      "File \u001b[1;32mc:\\Python311\\Lib\\http\\client.py:318\u001b[0m, in \u001b[0;36mHTTPResponse.begin\u001b[1;34m(self)\u001b[0m\n\u001b[0;32m    316\u001b[0m \u001b[39m# read until we get a non-100 response\u001b[39;00m\n\u001b[0;32m    317\u001b[0m \u001b[39mwhile\u001b[39;00m \u001b[39mTrue\u001b[39;00m:\n\u001b[1;32m--> 318\u001b[0m     version, status, reason \u001b[39m=\u001b[39m \u001b[39mself\u001b[39;49m\u001b[39m.\u001b[39;49m_read_status()\n\u001b[0;32m    319\u001b[0m     \u001b[39mif\u001b[39;00m status \u001b[39m!=\u001b[39m CONTINUE:\n\u001b[0;32m    320\u001b[0m         \u001b[39mbreak\u001b[39;00m\n",
      "File \u001b[1;32mc:\\Python311\\Lib\\http\\client.py:279\u001b[0m, in \u001b[0;36mHTTPResponse._read_status\u001b[1;34m(self)\u001b[0m\n\u001b[0;32m    278\u001b[0m \u001b[39mdef\u001b[39;00m \u001b[39m_read_status\u001b[39m(\u001b[39mself\u001b[39m):\n\u001b[1;32m--> 279\u001b[0m     line \u001b[39m=\u001b[39m \u001b[39mstr\u001b[39m(\u001b[39mself\u001b[39m\u001b[39m.\u001b[39mfp\u001b[39m.\u001b[39mreadline(_MAXLINE \u001b[39m+\u001b[39m \u001b[39m1\u001b[39m), \u001b[39m\"\u001b[39m\u001b[39miso-8859-1\u001b[39m\u001b[39m\"\u001b[39m)\n\u001b[0;32m    280\u001b[0m     \u001b[39mif\u001b[39;00m \u001b[39mlen\u001b[39m(line) \u001b[39m>\u001b[39m _MAXLINE:\n\u001b[0;32m    281\u001b[0m         \u001b[39mraise\u001b[39;00m LineTooLong(\u001b[39m\"\u001b[39m\u001b[39mstatus line\u001b[39m\u001b[39m\"\u001b[39m)\n",
      "File \u001b[1;32mc:\\Python311\\Lib\\socket.py:705\u001b[0m, in \u001b[0;36mSocketIO.readinto\u001b[1;34m(self, b)\u001b[0m\n\u001b[0;32m    703\u001b[0m \u001b[39mwhile\u001b[39;00m \u001b[39mTrue\u001b[39;00m:\n\u001b[0;32m    704\u001b[0m     \u001b[39mtry\u001b[39;00m:\n\u001b[1;32m--> 705\u001b[0m         \u001b[39mreturn\u001b[39;00m \u001b[39mself\u001b[39;49m\u001b[39m.\u001b[39;49m_sock\u001b[39m.\u001b[39;49mrecv_into(b)\n\u001b[0;32m    706\u001b[0m     \u001b[39mexcept\u001b[39;00m timeout:\n\u001b[0;32m    707\u001b[0m         \u001b[39mself\u001b[39m\u001b[39m.\u001b[39m_timeout_occurred \u001b[39m=\u001b[39m \u001b[39mTrue\u001b[39;00m\n",
      "File \u001b[1;32mc:\\Python311\\Lib\\ssl.py:1278\u001b[0m, in \u001b[0;36mSSLSocket.recv_into\u001b[1;34m(self, buffer, nbytes, flags)\u001b[0m\n\u001b[0;32m   1274\u001b[0m     \u001b[39mif\u001b[39;00m flags \u001b[39m!=\u001b[39m \u001b[39m0\u001b[39m:\n\u001b[0;32m   1275\u001b[0m         \u001b[39mraise\u001b[39;00m \u001b[39mValueError\u001b[39;00m(\n\u001b[0;32m   1276\u001b[0m           \u001b[39m\"\u001b[39m\u001b[39mnon-zero flags not allowed in calls to recv_into() on \u001b[39m\u001b[39m%s\u001b[39;00m\u001b[39m\"\u001b[39m \u001b[39m%\u001b[39m\n\u001b[0;32m   1277\u001b[0m           \u001b[39mself\u001b[39m\u001b[39m.\u001b[39m\u001b[39m__class__\u001b[39m)\n\u001b[1;32m-> 1278\u001b[0m     \u001b[39mreturn\u001b[39;00m \u001b[39mself\u001b[39;49m\u001b[39m.\u001b[39;49mread(nbytes, buffer)\n\u001b[0;32m   1279\u001b[0m \u001b[39melse\u001b[39;00m:\n\u001b[0;32m   1280\u001b[0m     \u001b[39mreturn\u001b[39;00m \u001b[39msuper\u001b[39m()\u001b[39m.\u001b[39mrecv_into(buffer, nbytes, flags)\n",
      "File \u001b[1;32mc:\\Python311\\Lib\\ssl.py:1134\u001b[0m, in \u001b[0;36mSSLSocket.read\u001b[1;34m(self, len, buffer)\u001b[0m\n\u001b[0;32m   1132\u001b[0m \u001b[39mtry\u001b[39;00m:\n\u001b[0;32m   1133\u001b[0m     \u001b[39mif\u001b[39;00m buffer \u001b[39mis\u001b[39;00m \u001b[39mnot\u001b[39;00m \u001b[39mNone\u001b[39;00m:\n\u001b[1;32m-> 1134\u001b[0m         \u001b[39mreturn\u001b[39;00m \u001b[39mself\u001b[39;49m\u001b[39m.\u001b[39;49m_sslobj\u001b[39m.\u001b[39;49mread(\u001b[39mlen\u001b[39;49m, buffer)\n\u001b[0;32m   1135\u001b[0m     \u001b[39melse\u001b[39;00m:\n\u001b[0;32m   1136\u001b[0m         \u001b[39mreturn\u001b[39;00m \u001b[39mself\u001b[39m\u001b[39m.\u001b[39m_sslobj\u001b[39m.\u001b[39mread(\u001b[39mlen\u001b[39m)\n",
      "\u001b[1;31mKeyboardInterrupt\u001b[0m: "
     ]
    }
   ],
   "source": [
    "import openai\n",
    "import os\n",
    "import json\n",
    "import time\n",
    "import pandas as pd\n",
    "from tqdm import tqdm\n",
    "\n",
    "# Create a temp folder if it doesn't exist\n",
    "temp_folder_path = r\"C:/Users/andre/OneDrive - AWJCorp/Work/Georgetown RA/Joshi-DeJure/0_data/interim/temp_gpt_take2.2\"\n",
    "if not os.path.exists(temp_folder_path):\n",
    "    os.makedirs(temp_folder_path)\n",
    "# Your prompt variable\n",
    "prompt = \"You are an Indian classifier. You will be given a text that definitely contains geographical location names in India. Your job is to parse the text into various location categories in India. Your outputs are: \\n\\\"The State is: `state name 1`, (significance)\\\" \\n \\\"The District is: `District name 1`, (significance)\\\" \\n \\\"The City is:  `City name 1`, (significance)\\\" \\n - When the text does not contain any location information or if the text is nonsense. You output the xxx is N/A. \\n - You will do the same even if the location provided only contains 1 or a few levels. \\n - If there are multiple locations at the same level, for example, multiple states, the output format you MUST follow is: The State is: `state name 1`; `state name2`, etc. \\n -Use as few words as possible to describe a location's significance. \"\n",
    "\n",
    "# Function to make API calls\n",
    "def api_call(location, iteration):\n",
    "    try:\n",
    "        response = openai.ChatCompletion.create(\n",
    "            model=\"gpt-4\",\n",
    "            messages=[\n",
    "                {\n",
    "                    \"role\": \"system\",\n",
    "                    \"content\": prompt\n",
    "                },\n",
    "                {\n",
    "                    \"role\": \"user\",\n",
    "                    \"content\": location\n",
    "                }\n",
    "            ],\n",
    "            temperature=0,\n",
    "            max_tokens=2000,\n",
    "            top_p=1,\n",
    "            frequency_penalty=0,\n",
    "            presence_penalty=0\n",
    "        )\n",
    "\n",
    "        # Save the response as a JSON file\n",
    "        json_file_path = os.path.join(temp_folder_path, f\"{iteration}.json\")\n",
    "        with open(json_file_path, 'w') as f:\n",
    "            json.dump(response, f)\n",
    "\n",
    "    except Exception as e:\n",
    "        print(f\"API call failed at iteration {iteration} with error: {e}\")\n",
    "\n",
    "# Input for starting iteration\n",
    "start_iteration = int(input(\"Enter the iteration number to start from: \"))\n",
    "\n",
    "# Path to your CSV file\n",
    "csvpath = r\"C:/Users/andre/OneDrive - AWJCorp/Work/Georgetown RA/Joshi-DeJure/0_data/final/combined_gpt_take2.1.csv\"\n",
    "\n",
    "# Loop through the DataFrame\n",
    "total_rows = len(pd.read_csv(csvpath))\n",
    "for index, row in tqdm(enumerate(pd.read_csv(csvpath).iterrows(), start=start_iteration), total=total_rows - start_iteration + 1, desc=\"Processing locations\"):\n",
    "    if index < start_iteration:\n",
    "        continue\n",
    "    location = row[1]['Content']  # Make sure the column name is correct\n",
    "    api_call(location, index)\n",
    "    time.sleep(1)\n"
   ]
  },
  {
   "cell_type": "code",
   "execution_count": 2,
   "metadata": {},
   "outputs": [],
   "source": [
    "gpt_outputs = []\n",
    "\n",
    "new_df = pd.read_csv(csvpath)\n",
    "# Loop through all the rows in the new DataFrame\n",
    "for i in range(len(new_df)):\n",
    "    json_file_path = os.path.join(temp_folder_path, f\"{i}.json\")\n",
    "    \n",
    "    # Check if the file exists\n",
    "    if os.path.exists(json_file_path):\n",
    "        with open(json_file_path, 'r') as f:\n",
    "            data = json.load(f)\n",
    "        \n",
    "        # Extract the GPT response from the JSON\n",
    "        gpt_output = data.get('choices', [{}])[0].get('message', {}).get('content', \"N/A\")\n",
    "        gpt_outputs.append(gpt_output)\n",
    "    else:\n",
    "        gpt_outputs.append(\"N/A\")\n",
    "\n",
    "# Create a new DataFrame for the GPT outputs\n",
    "gpt_outputs_df = pd.DataFrame({'gpt_output': gpt_outputs})\n",
    "\n",
    "# Perform a left join on the index\n",
    "new_df_merged = new_df.join(gpt_outputs_df)"
   ]
  },
  {
   "cell_type": "code",
   "execution_count": 3,
   "metadata": {},
   "outputs": [],
   "source": [
    "# Save the new DataFrame to a CSV file\n",
    "new_df_merged.to_csv('C:/Users/andre/OneDrive - AWJCorp/Work/Georgetown RA/Joshi-DeJure/0_data/final/combined_gpt_take2.2.csv', index=False)"
   ]
  },
  {
   "cell_type": "code",
   "execution_count": null,
   "metadata": {},
   "outputs": [],
   "source": []
  }
 ],
 "metadata": {
  "kernelspec": {
   "display_name": "Python 3",
   "language": "python",
   "name": "python3"
  },
  "language_info": {
   "codemirror_mode": {
    "name": "ipython",
    "version": 3
   },
   "file_extension": ".py",
   "mimetype": "text/x-python",
   "name": "python",
   "nbconvert_exporter": "python",
   "pygments_lexer": "ipython3",
   "version": "3.11.0"
  }
 },
 "nbformat": 4,
 "nbformat_minor": 2
}
